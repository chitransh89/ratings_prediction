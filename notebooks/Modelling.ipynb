{
 "cells": [
  {
   "cell_type": "code",
   "execution_count": 1,
   "id": "32b71d95",
   "metadata": {},
   "outputs": [],
   "source": [
    "from nltk.stem.porter import PorterStemmer\n",
    "from nltk.tokenize import word_tokenize\n",
    "from nltk.corpus import stopwords\n",
    "from string import punctuation\n",
    "\n",
    "import nltk\n",
    "import pandas as pd\n",
    "import numpy as np"
   ]
  },
  {
   "cell_type": "code",
   "execution_count": 34,
   "id": "28a14aa5",
   "metadata": {},
   "outputs": [],
   "source": [
    "import joblib"
   ]
  },
  {
   "cell_type": "code",
   "execution_count": 2,
   "id": "b83e144b",
   "metadata": {},
   "outputs": [],
   "source": [
    "reviews = pd.read_csv(\"data.csv\")"
   ]
  },
  {
   "cell_type": "code",
   "execution_count": 3,
   "id": "a2697260",
   "metadata": {},
   "outputs": [
    {
     "data": {
      "text/plain": [
       "(9987, 2)"
      ]
     },
     "execution_count": 3,
     "metadata": {},
     "output_type": "execute_result"
    }
   ],
   "source": [
    "reviews.shape"
   ]
  },
  {
   "cell_type": "code",
   "execution_count": 4,
   "id": "90ceed3b",
   "metadata": {},
   "outputs": [
    {
     "data": {
      "text/html": [
       "<div>\n",
       "<style scoped>\n",
       "    .dataframe tbody tr th:only-of-type {\n",
       "        vertical-align: middle;\n",
       "    }\n",
       "\n",
       "    .dataframe tbody tr th {\n",
       "        vertical-align: top;\n",
       "    }\n",
       "\n",
       "    .dataframe thead th {\n",
       "        text-align: right;\n",
       "    }\n",
       "</style>\n",
       "<table border=\"1\" class=\"dataframe\">\n",
       "  <thead>\n",
       "    <tr style=\"text-align: right;\">\n",
       "      <th></th>\n",
       "      <th>review</th>\n",
       "      <th>overall</th>\n",
       "    </tr>\n",
       "  </thead>\n",
       "  <tbody>\n",
       "    <tr>\n",
       "      <th>0</th>\n",
       "      <td>Don't like it. It will not hold my cigarettes....</td>\n",
       "      <td>1.0</td>\n",
       "    </tr>\n",
       "    <tr>\n",
       "      <th>1</th>\n",
       "      <td>love Four Stars</td>\n",
       "      <td>4.0</td>\n",
       "    </tr>\n",
       "    <tr>\n",
       "      <th>2</th>\n",
       "      <td>Wonderful item. I have purchased several of th...</td>\n",
       "      <td>4.0</td>\n",
       "    </tr>\n",
       "    <tr>\n",
       "      <th>3</th>\n",
       "      <td>I just love it! I think this is my six or seve...</td>\n",
       "      <td>5.0</td>\n",
       "    </tr>\n",
       "    <tr>\n",
       "      <th>4</th>\n",
       "      <td>made well but will only hold a small pack of c...</td>\n",
       "      <td>4.0</td>\n",
       "    </tr>\n",
       "  </tbody>\n",
       "</table>\n",
       "</div>"
      ],
      "text/plain": [
       "                                              review  overall\n",
       "0  Don't like it. It will not hold my cigarettes....      1.0\n",
       "1                                    love Four Stars      4.0\n",
       "2  Wonderful item. I have purchased several of th...      4.0\n",
       "3  I just love it! I think this is my six or seve...      5.0\n",
       "4  made well but will only hold a small pack of c...      4.0"
      ]
     },
     "execution_count": 4,
     "metadata": {},
     "output_type": "execute_result"
    }
   ],
   "source": [
    "reviews.head()"
   ]
  },
  {
   "cell_type": "code",
   "execution_count": 5,
   "id": "101b819f",
   "metadata": {},
   "outputs": [],
   "source": [
    "indetifier = pd.read_csv(\"identifier.csv\")"
   ]
  },
  {
   "cell_type": "code",
   "execution_count": 6,
   "id": "fb9d3550",
   "metadata": {},
   "outputs": [
    {
     "data": {
      "text/plain": [
       "(9987, 2)"
      ]
     },
     "execution_count": 6,
     "metadata": {},
     "output_type": "execute_result"
    }
   ],
   "source": [
    "indetifier.shape"
   ]
  },
  {
   "cell_type": "markdown",
   "id": "48ca3e7c",
   "metadata": {},
   "source": [
    "### creating data set of reviews and labels (removed now)"
   ]
  },
  {
   "cell_type": "code",
   "execution_count": 8,
   "id": "f75b5de5",
   "metadata": {},
   "outputs": [],
   "source": [
    "data_set = []\n",
    "for index,row in reviews.iterrows():\n",
    "    data_set.append(row['review'])"
   ]
  },
  {
   "cell_type": "code",
   "execution_count": 31,
   "id": "f2649590",
   "metadata": {},
   "outputs": [
    {
     "name": "stdout",
     "output_type": "stream",
     "text": [
      "9987\n"
     ]
    }
   ],
   "source": [
    "print(len(data_set))"
   ]
  },
  {
   "cell_type": "code",
   "execution_count": 9,
   "id": "8a4883a6",
   "metadata": {},
   "outputs": [
    {
     "data": {
      "text/plain": [
       "[\"Don't like it. It will not hold my cigarettes. Not long enough. One Star\",\n",
       " 'love Four Stars']"
      ]
     },
     "execution_count": 9,
     "metadata": {},
     "output_type": "execute_result"
    }
   ],
   "source": [
    "data_set[:2]"
   ]
  },
  {
   "cell_type": "code",
   "execution_count": 10,
   "id": "347882f6",
   "metadata": {},
   "outputs": [],
   "source": [
    "# initializaing stemmer\n",
    "\n",
    "stemmer = PorterStemmer()"
   ]
  },
  {
   "cell_type": "code",
   "execution_count": 11,
   "id": "e35bc394",
   "metadata": {},
   "outputs": [],
   "source": [
    "stoplist = stopwords.words('english') + list(punctuation)"
   ]
  },
  {
   "cell_type": "code",
   "execution_count": 12,
   "id": "b6d4867b",
   "metadata": {},
   "outputs": [],
   "source": [
    "import re"
   ]
  },
  {
   "cell_type": "code",
   "execution_count": 63,
   "id": "66fc63a9",
   "metadata": {},
   "outputs": [],
   "source": [
    "def preprocess(doc, sent=False):\n",
    "#     print(doc)\n",
    "    # lower case\n",
    "    # tokenize into words\n",
    "    words = word_tokenize(doc)\n",
    "    # remove stop words\n",
    "    words = [re.sub(\"[\\'./-=+].+\", \"\" ,word.lower()) for word in words if word not in stoplist]\n",
    "    \n",
    "    \n",
    "    words = [stemmer.stem(word) for word in words if len(word) > 2]\n",
    "    \n",
    "    document = \" \".join(words)\n",
    "#     print(\"document\",document)\n",
    "    if sent:\n",
    "        return document\n",
    "    else:\n",
    "        return words"
   ]
  },
  {
   "cell_type": "code",
   "execution_count": 64,
   "id": "25293eef",
   "metadata": {},
   "outputs": [],
   "source": [
    "# preprocess review data with word set in return\n",
    "\n",
    "message_set = [preprocess(message) for message in data_set]"
   ]
  },
  {
   "cell_type": "code",
   "execution_count": 68,
   "id": "cf381684",
   "metadata": {},
   "outputs": [],
   "source": [
    "# preprocess review data with sent set in return\n",
    "\n",
    "sent_set = [preprocess(message, sent=True) for message in data_set]"
   ]
  },
  {
   "cell_type": "code",
   "execution_count": 15,
   "id": "9a8d3b6b",
   "metadata": {},
   "outputs": [
    {
     "data": {
      "text/plain": [
       "9987"
      ]
     },
     "execution_count": 15,
     "metadata": {},
     "output_type": "execute_result"
    }
   ],
   "source": [
    "len(message_set)"
   ]
  },
  {
   "cell_type": "code",
   "execution_count": 65,
   "id": "38131d7e",
   "metadata": {},
   "outputs": [
    {
     "data": {
      "text/plain": [
       "[['like', 'hold', 'cigarett', 'not', 'long', 'enough', 'one', 'star'],\n",
       " ['love', 'four', 'star']]"
      ]
     },
     "execution_count": 65,
     "metadata": {},
     "output_type": "execute_result"
    }
   ],
   "source": [
    "message_set[:2]"
   ]
  },
  {
   "cell_type": "code",
   "execution_count": 69,
   "id": "54ff2ff4",
   "metadata": {},
   "outputs": [
    {
     "data": {
      "text/plain": [
       "['like hold cigarett not long enough one star',\n",
       " 'love four star',\n",
       " 'wonder item purchas sever they last forev unless lose happi purchas buxton made last made last']"
      ]
     },
     "execution_count": 69,
     "metadata": {},
     "output_type": "execute_result"
    }
   ],
   "source": [
    "sent_set[:3]"
   ]
  },
  {
   "cell_type": "markdown",
   "id": "55135148",
   "metadata": {},
   "source": [
    "### SENTENCE EMBEDDING"
   ]
  },
  {
   "cell_type": "code",
   "execution_count": 44,
   "id": "0000a759",
   "metadata": {},
   "outputs": [],
   "source": [
    "# from sklearn.feature_extraction.text import TfidfVectorizer, TfidfTransformer"
   ]
  },
  {
   "cell_type": "code",
   "execution_count": 32,
   "id": "b600c3d0",
   "metadata": {},
   "outputs": [],
   "source": [
    "# Building a TF IDF matrix out of the corpus of reviews\n",
    "# from sklearn.feature_extraction.text import TfidfVectorizer\n",
    "# td = TfidfVectorizer(max_features = 4500)\n",
    "# X = td.fit_transform(message_set).toarray()"
   ]
  },
  {
   "cell_type": "code",
   "execution_count": 35,
   "id": "b0a8d4c8",
   "metadata": {},
   "outputs": [
    {
     "data": {
      "text/plain": [
       "['tfidf_20220102.pkl']"
      ]
     },
     "execution_count": 35,
     "metadata": {},
     "output_type": "execute_result"
    }
   ],
   "source": [
    "# joblib.dump(td.vocabulary_, 'tfidf_20220102.pkl')"
   ]
  },
  {
   "cell_type": "code",
   "execution_count": 46,
   "id": "e5455c94",
   "metadata": {},
   "outputs": [],
   "source": [
    "from gensim.models.doc2vec import Doc2Vec, TaggedDocument"
   ]
  },
  {
   "cell_type": "code",
   "execution_count": 52,
   "id": "33accc11",
   "metadata": {},
   "outputs": [],
   "source": [
    "tagged_data = [TaggedDocument(d, [i]) for i, d in enumerate(message_set)]"
   ]
  },
  {
   "cell_type": "code",
   "execution_count": 53,
   "id": "2cd12ab9",
   "metadata": {},
   "outputs": [
    {
     "data": {
      "text/plain": [
       "[TaggedDocument(words=['like', 'hold', 'cigarett', 'not', 'long', 'enough', 'one', 'star'], tags=[0]),\n",
       " TaggedDocument(words=['love', 'four', 'star'], tags=[1])]"
      ]
     },
     "execution_count": 53,
     "metadata": {},
     "output_type": "execute_result"
    }
   ],
   "source": [
    "tagged_data[:2]"
   ]
  },
  {
   "cell_type": "code",
   "execution_count": 54,
   "id": "225d3315",
   "metadata": {},
   "outputs": [
    {
     "data": {
      "text/plain": [
       "'\\nvector_size = Dimensionality of the feature vectors.\\nwindow = The maximum distance between the current and predicted word within a sentence.\\nmin_count = Ignores all words with total frequency lower than this.\\nalpha = The initial learning rate.\\n'"
      ]
     },
     "execution_count": 54,
     "metadata": {},
     "output_type": "execute_result"
    }
   ],
   "source": [
    "model = Doc2Vec(tagged_data, vector_size = 20, window = 2, min_count = 1, epochs = 100)\n",
    "\n",
    "# model.wv.vocab contains model vocabulary"
   ]
  },
  {
   "cell_type": "code",
   "execution_count": 55,
   "id": "2026231f",
   "metadata": {},
   "outputs": [],
   "source": [
    "# saving sent embedding model\n",
    "\n",
    "model.save(\"doc_embedding_20220102\")"
   ]
  },
  {
   "cell_type": "code",
   "execution_count": 57,
   "id": "05656e25",
   "metadata": {},
   "outputs": [],
   "source": [
    "import gensim"
   ]
  },
  {
   "cell_type": "markdown",
   "id": "2e7f62e4",
   "metadata": {},
   "source": [
    "### Trying loading the model and checking if it  works as expected"
   ]
  },
  {
   "cell_type": "code",
   "execution_count": 58,
   "id": "d993f36b",
   "metadata": {},
   "outputs": [],
   "source": [
    "model_loaded = gensim.models.Word2Vec.load(\"doc_embedding_20220102\")"
   ]
  },
  {
   "cell_type": "code",
   "execution_count": 61,
   "id": "77538319",
   "metadata": {},
   "outputs": [
    {
     "data": {
      "text/plain": [
       "array([-0.01171344, -0.01917688, -0.02077239, -0.00681774,  0.01457975,\n",
       "       -0.0174458 ,  0.02329998, -0.00936267,  0.00748427,  0.00060759,\n",
       "       -0.01225773,  0.01710643, -0.02454663, -0.02379553,  0.01906421,\n",
       "        0.00457406, -0.00600684,  0.00250608,  0.02475584,  0.01102187],\n",
       "      dtype=float32)"
      ]
     },
     "execution_count": 61,
     "metadata": {},
     "output_type": "execute_result"
    }
   ],
   "source": [
    "model_loaded.infer_vector([\"i am happy\"])"
   ]
  },
  {
   "cell_type": "code",
   "execution_count": 73,
   "id": "f97c59c9",
   "metadata": {},
   "outputs": [
    {
     "data": {
      "text/plain": [
       "9987"
      ]
     },
     "execution_count": 73,
     "metadata": {},
     "output_type": "execute_result"
    }
   ],
   "source": [
    "len(sent_set)"
   ]
  },
  {
   "cell_type": "code",
   "execution_count": 122,
   "id": "4da90002",
   "metadata": {},
   "outputs": [],
   "source": [
    "# vectorizing all sentences\n",
    "\n",
    "X = []\n",
    "for sentence in message_set:\n",
    "    X.append(model.infer_vector(sentence))"
   ]
  },
  {
   "cell_type": "code",
   "execution_count": 123,
   "id": "a8d18dbd",
   "metadata": {},
   "outputs": [],
   "source": [
    "X = np.array(X)"
   ]
  },
  {
   "cell_type": "code",
   "execution_count": 124,
   "id": "907eb44a",
   "metadata": {},
   "outputs": [
    {
     "data": {
      "text/plain": [
       "(20,)"
      ]
     },
     "execution_count": 124,
     "metadata": {},
     "output_type": "execute_result"
    }
   ],
   "source": [
    "X[0].shape"
   ]
  },
  {
   "cell_type": "code",
   "execution_count": 121,
   "id": "ab587a09",
   "metadata": {},
   "outputs": [
    {
     "data": {
      "text/plain": [
       "array([[-2.8934722 ,  0.8105569 , -0.05500418, -0.6458565 ,  0.23412736,\n",
       "         1.336904  , -0.4396123 ,  1.3420455 , -0.11662147, -0.5038103 ,\n",
       "         0.95538855, -0.24892607,  0.06631743, -0.01830056,  1.1267383 ,\n",
       "         0.6176976 ,  1.5180448 , -0.20286061, -0.72187585,  0.01762974],\n",
       "       [-0.17614418,  0.18999436,  0.12506874,  0.02836764, -0.18944907,\n",
       "         0.25617853, -0.11302615,  0.86333686, -0.68892837,  0.1860896 ,\n",
       "        -0.5057833 , -0.5399364 ,  0.46944556, -0.05551057,  0.20048162,\n",
       "         0.30074483,  0.82069665, -0.25850135, -1.0541384 , -0.1693759 ],\n",
       "       [-1.091864  ,  2.6368256 ,  0.963515  ,  0.58820194, -1.2787174 ,\n",
       "         2.4591606 ,  0.45860162,  0.09472281, -1.0917852 , -0.92316073,\n",
       "        -2.7503798 , -0.9171574 , -0.25222987, -2.0764556 , -0.26186475,\n",
       "         1.5073183 ,  0.45111078,  0.5243225 , -1.0061351 , -0.01246951],\n",
       "       [-1.0858907 ,  1.3540184 , -1.8365468 ,  1.9294231 , -0.36378846,\n",
       "         0.4840808 ,  2.609053  ,  1.1450601 ,  0.16797377, -0.5704842 ,\n",
       "         1.0321796 , -3.1111069 , -0.20199569, -2.6937845 ,  0.5562516 ,\n",
       "        -1.2476256 ,  1.5145586 , -0.8215198 , -1.1191906 ,  0.23361766],\n",
       "       [-2.8703496 ,  1.6138581 ,  0.03122469, -0.06007488, -1.0620203 ,\n",
       "         1.1936549 , -0.9279523 ,  1.0561107 , -1.1918024 , -0.6383202 ,\n",
       "         0.5795858 , -3.1602151 , -1.3259827 ,  0.30314186,  2.5207748 ,\n",
       "         1.6821638 , -1.0905747 ,  0.8089801 ,  0.7819418 , -0.81999564]],\n",
       "      dtype=float32)"
      ]
     },
     "execution_count": 121,
     "metadata": {},
     "output_type": "execute_result"
    }
   ],
   "source": [
    "X[:5]"
   ]
  },
  {
   "cell_type": "code",
   "execution_count": 116,
   "id": "c7a8f581",
   "metadata": {},
   "outputs": [],
   "source": [
    "y = reviews.overall.values"
   ]
  },
  {
   "cell_type": "code",
   "execution_count": 117,
   "id": "2b0c04cc",
   "metadata": {},
   "outputs": [],
   "source": [
    "# Splitting into training & test subsets\n",
    "from sklearn.model_selection import train_test_split\n",
    "X_train, X_test, y_train, y_test = train_test_split(X, y, test_size = 0.3,\n",
    "                                                    random_state = 0)"
   ]
  },
  {
   "cell_type": "code",
   "execution_count": 118,
   "id": "f403c688",
   "metadata": {},
   "outputs": [
    {
     "data": {
      "text/plain": [
       "(2997, 20)"
      ]
     },
     "execution_count": 118,
     "metadata": {},
     "output_type": "execute_result"
    }
   ],
   "source": [
    "X_test.shape"
   ]
  },
  {
   "cell_type": "markdown",
   "id": "34362309",
   "metadata": {},
   "source": [
    "## MODEL TRAINING"
   ]
  },
  {
   "cell_type": "code",
   "execution_count": 104,
   "id": "21933194",
   "metadata": {},
   "outputs": [],
   "source": [
    "from sklearn.linear_model import LogisticRegression"
   ]
  },
  {
   "cell_type": "code",
   "execution_count": 105,
   "id": "47eb1137",
   "metadata": {},
   "outputs": [],
   "source": [
    "clf = LogisticRegression(random_state=0).fit(X_train, y_train)"
   ]
  },
  {
   "cell_type": "code",
   "execution_count": 106,
   "id": "3549c9e6",
   "metadata": {},
   "outputs": [
    {
     "data": {
      "text/plain": [
       "0.6329662996329662"
      ]
     },
     "execution_count": 106,
     "metadata": {},
     "output_type": "execute_result"
    }
   ],
   "source": [
    "clf.score(X_test, y_test)"
   ]
  },
  {
   "cell_type": "code",
   "execution_count": 107,
   "id": "b38a8b15",
   "metadata": {},
   "outputs": [
    {
     "data": {
      "text/plain": [
       "array([1., 5., 5., 3., 3., 2., 5., 5., 5., 5., 5., 5., 5., 5., 5., 5., 3.,\n",
       "       4., 5., 5., 5., 4., 5., 4., 5., 5., 5., 4., 5., 4., 1., 5., 5., 5.,\n",
       "       5., 5., 5., 5., 5., 5., 5., 5., 5., 5., 3., 5., 5., 5., 5., 5., 4.,\n",
       "       5., 5., 5., 3., 5., 5., 5., 5., 5., 1., 5., 5., 5., 5., 5., 1., 5.,\n",
       "       5., 5., 5., 5., 5., 5., 5., 4., 5., 3., 5., 5., 5., 5., 5., 5., 5.,\n",
       "       5., 3., 5., 4., 5., 5., 4., 5., 5., 5., 4., 5., 5., 5., 2.])"
      ]
     },
     "execution_count": 107,
     "metadata": {},
     "output_type": "execute_result"
    }
   ],
   "source": [
    "clf.predict(X_test)[:100]"
   ]
  },
  {
   "cell_type": "code",
   "execution_count": 108,
   "id": "2b93cfc3",
   "metadata": {},
   "outputs": [
    {
     "data": {
      "text/plain": [
       "['model20220102.pkl']"
      ]
     },
     "execution_count": 108,
     "metadata": {},
     "output_type": "execute_result"
    }
   ],
   "source": [
    "# saving the model\n",
    "\n",
    "joblib.dump(clf, 'model20220102.pkl', compress=1)"
   ]
  },
  {
   "cell_type": "markdown",
   "id": "897bb8bd",
   "metadata": {},
   "source": [
    "### Loading the model again to check if it works as expected"
   ]
  },
  {
   "cell_type": "code",
   "execution_count": 109,
   "id": "d33df5c2",
   "metadata": {},
   "outputs": [],
   "source": [
    "model_clf = joblib.load('model20220102.pkl')"
   ]
  },
  {
   "cell_type": "code",
   "execution_count": 112,
   "id": "e6808696",
   "metadata": {},
   "outputs": [
    {
     "data": {
      "text/plain": [
       "5.0"
      ]
     },
     "execution_count": 112,
     "metadata": {},
     "output_type": "execute_result"
    }
   ],
   "source": [
    "model_clf.predict(X_test[1:2]).tolist()[0]"
   ]
  },
  {
   "cell_type": "code",
   "execution_count": 114,
   "id": "fd169864",
   "metadata": {},
   "outputs": [
    {
     "data": {
      "text/plain": [
       "(1, 20)"
      ]
     },
     "execution_count": 114,
     "metadata": {},
     "output_type": "execute_result"
    }
   ],
   "source": [
    "X_test[1:2].shape"
   ]
  },
  {
   "cell_type": "code",
   "execution_count": null,
   "id": "3c5a6c0f",
   "metadata": {},
   "outputs": [],
   "source": []
  }
 ],
 "metadata": {
  "kernelspec": {
   "display_name": "Python 3",
   "language": "python",
   "name": "python3"
  },
  "language_info": {
   "codemirror_mode": {
    "name": "ipython",
    "version": 3
   },
   "file_extension": ".py",
   "mimetype": "text/x-python",
   "name": "python",
   "nbconvert_exporter": "python",
   "pygments_lexer": "ipython3",
   "version": "3.6.9"
  }
 },
 "nbformat": 4,
 "nbformat_minor": 5
}
