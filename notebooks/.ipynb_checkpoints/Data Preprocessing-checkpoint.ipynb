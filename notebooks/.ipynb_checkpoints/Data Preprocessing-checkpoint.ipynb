{
 "cells": [
  {
   "cell_type": "code",
   "execution_count": 1,
   "id": "fca4ffdd",
   "metadata": {},
   "outputs": [],
   "source": [
    "import pandas as pd\n",
    "import numpy as np\n",
    "import json"
   ]
  },
  {
   "cell_type": "code",
   "execution_count": 2,
   "id": "df820a3d",
   "metadata": {},
   "outputs": [],
   "source": [
    "import ast\n",
    "import matplotlib.pyplot as plt"
   ]
  },
  {
   "cell_type": "code",
   "execution_count": 3,
   "id": "50979d37",
   "metadata": {},
   "outputs": [],
   "source": [
    "pd.set_option('display.max_colwidth', None)"
   ]
  },
  {
   "cell_type": "code",
   "execution_count": 4,
   "id": "63de3dbc",
   "metadata": {},
   "outputs": [],
   "source": [
    "def flatten_dict(dd, separator='_', prefix=''):\n",
    "    return { prefix + separator + k if prefix else k : v\n",
    "             for kk, vv in dd.items()\n",
    "             for k, v in flatten_dict(vv, separator, kk).items()\n",
    "             } if isinstance(dd, dict) else { prefix : dd }"
   ]
  },
  {
   "cell_type": "code",
   "execution_count": 5,
   "id": "f2522d1b",
   "metadata": {},
   "outputs": [],
   "source": [
    "# reading file\n",
    "\n",
    "def get_data(filename: str):\n",
    "    with open(filename, 'r') as fin:\n",
    "        data = fin.readlines()\n",
    "    return data"
   ]
  },
  {
   "cell_type": "code",
   "execution_count": 6,
   "id": "0d7d8b93",
   "metadata": {},
   "outputs": [],
   "source": [
    "# converting each line to dict and then list of dicts to pd dataframe\n",
    "\n",
    "def data_to_dataframe(lines_data: list, switch = False):\n",
    "    temp_lst = []\n",
    "    for line in lines_data:\n",
    "        if not switch:\n",
    "            temp_dict = ast.literal_eval(line)\n",
    "            flat_temp_dict = flatten_dict(temp_dict)\n",
    "        else:\n",
    "            temp_dict = json.loads(line)\n",
    "            flat_temp_dict = flatten_dict(temp_dict)\n",
    "        temp_lst.append(flat_temp_dict)\n",
    "    df = pd.DataFrame.from_dict(temp_lst)\n",
    "    return df"
   ]
  },
  {
   "cell_type": "code",
   "execution_count": 7,
   "id": "1febedc9",
   "metadata": {},
   "outputs": [],
   "source": [
    "# reading metadata\n",
    "\n",
    "data_meta = get_data(\"/home/chitransh/Documents/personal/tf_interview_meta_FASHION.json\")\n",
    "df_meta = data_to_dataframe(data_meta)"
   ]
  },
  {
   "cell_type": "code",
   "execution_count": 8,
   "id": "e43ef341",
   "metadata": {},
   "outputs": [
    {
     "data": {
      "text/html": [
       "<div>\n",
       "<style scoped>\n",
       "    .dataframe tbody tr th:only-of-type {\n",
       "        vertical-align: middle;\n",
       "    }\n",
       "\n",
       "    .dataframe tbody tr th {\n",
       "        vertical-align: top;\n",
       "    }\n",
       "\n",
       "    .dataframe thead th {\n",
       "        text-align: right;\n",
       "    }\n",
       "</style>\n",
       "<table border=\"1\" class=\"dataframe\">\n",
       "  <thead>\n",
       "    <tr style=\"text-align: right;\">\n",
       "      <th></th>\n",
       "      <th>title</th>\n",
       "      <th>brand</th>\n",
       "      <th>feature</th>\n",
       "      <th>rank</th>\n",
       "      <th>date</th>\n",
       "      <th>asin</th>\n",
       "      <th>imageURL</th>\n",
       "      <th>imageURLHighRes</th>\n",
       "      <th>description</th>\n",
       "      <th>price</th>\n",
       "      <th>...</th>\n",
       "      <th>tech1_Item Package Quantity</th>\n",
       "      <th>tech1_Batteries Included?</th>\n",
       "      <th>tech1_Batteries Required?</th>\n",
       "      <th>tech1_Material</th>\n",
       "      <th>tech1_Style</th>\n",
       "      <th>tech1_Number Of Pieces</th>\n",
       "      <th>tech1_Special Features</th>\n",
       "      <th>tech1_Included Components</th>\n",
       "      <th>tech1_Discontinued by manufacturer</th>\n",
       "      <th>tech1_Closure</th>\n",
       "    </tr>\n",
       "  </thead>\n",
       "  <tbody>\n",
       "    <tr>\n",
       "      <th>0</th>\n",
       "      <td>Slime Time Fall Fest [With CDROM and Collector Cards and Neutron Balls, Incredi-Ball and Glow Stick Necklace, Paper Fram</td>\n",
       "      <td>Group Publishing (CO)</td>\n",
       "      <td>[Product Dimensions:\\n                    \\n8.7 x 3.6 x 11.4 inches, Shipping Weight:\\n                    \\n2.4 pounds]</td>\n",
       "      <td>13,052,976inClothing,Shoesamp;Jewelry(</td>\n",
       "      <td>8.70 inches</td>\n",
       "      <td>0764443682</td>\n",
       "      <td>[https://images-na.ssl-images-amazon.com/images/I/51bSrINiWpL._US40_.jpg]</td>\n",
       "      <td>[https://images-na.ssl-images-amazon.com/images/I/51bSrINiWpL.jpg]</td>\n",
       "      <td>NaN</td>\n",
       "      <td>NaN</td>\n",
       "      <td>...</td>\n",
       "      <td>NaN</td>\n",
       "      <td>NaN</td>\n",
       "      <td>NaN</td>\n",
       "      <td>NaN</td>\n",
       "      <td>NaN</td>\n",
       "      <td>NaN</td>\n",
       "      <td>NaN</td>\n",
       "      <td>NaN</td>\n",
       "      <td>NaN</td>\n",
       "      <td>NaN</td>\n",
       "    </tr>\n",
       "    <tr>\n",
       "      <th>1</th>\n",
       "      <td>XCC Qi promise new spider snake preparing men's accessories alloy fittings magnet buckle bracelet jewelry</td>\n",
       "      <td>NaN</td>\n",
       "      <td>NaN</td>\n",
       "      <td>11,654,581inClothing,Shoesamp;Jewelry(</td>\n",
       "      <td>5 star</td>\n",
       "      <td>1291691480</td>\n",
       "      <td>[https://images-na.ssl-images-amazon.com/images/I/41BCH7-4vHL._US40_.jpg, https://images-na.ssl-images-amazon.com/images/I/41FpbB--SoL._US40_.jpg, https://images-na.ssl-images-amazon.com/images/I/51twQYJo0NL._US40_.jpg]</td>\n",
       "      <td>[https://images-na.ssl-images-amazon.com/images/I/41BCH7-4vHL.jpg, https://images-na.ssl-images-amazon.com/images/I/41FpbB--SoL.jpg, https://images-na.ssl-images-amazon.com/images/I/51twQYJo0NL.jpg]</td>\n",
       "      <td>NaN</td>\n",
       "      <td>NaN</td>\n",
       "      <td>...</td>\n",
       "      <td>NaN</td>\n",
       "      <td>NaN</td>\n",
       "      <td>NaN</td>\n",
       "      <td>NaN</td>\n",
       "      <td>NaN</td>\n",
       "      <td>NaN</td>\n",
       "      <td>NaN</td>\n",
       "      <td>NaN</td>\n",
       "      <td>NaN</td>\n",
       "      <td>NaN</td>\n",
       "    </tr>\n",
       "    <tr>\n",
       "      <th>2</th>\n",
       "      <td>Magical Things I Really Do Do Too!</td>\n",
       "      <td>Christopher Manos</td>\n",
       "      <td>[Package Dimensions:\\n                    \\n8.5 x 5.5 x 0.4 inches, Shipping Weight:\\n                    \\n6.1 ounces]</td>\n",
       "      <td>19,308,073inClothing,ShoesJewelry(</td>\n",
       "      <td>5 star</td>\n",
       "      <td>1940280001</td>\n",
       "      <td>[https://images-na.ssl-images-amazon.com/images/I/4196%2BTu5T%2BL._SR38,50_.jpg, https://images-na.ssl-images-amazon.com/images/I/31N2zBaedSL._SR38,50_.jpg]</td>\n",
       "      <td>[https://images-na.ssl-images-amazon.com/images/I/4196%2BTu5T%2BL.jpg, https://images-na.ssl-images-amazon.com/images/I/31N2zBaedSL.jpg]</td>\n",
       "      <td>[For the professional or amateur magician.  Routines include: The Thought Transmitter (An accidental USAF experiment that became a hit at the Denver Playboy Club and continues through today!), Three Card Match (The trick that fooled Dai Vernon), Numbo-Jumbo (A stack of 85 cards containing random 2 and 4 digit numbers is apparently memorized), The Binary Box (Light the light  even rocket scientists could not figure it out!), Kryptonite! (Anyone can be a superhero and save the day!), Laundry Quandary (Where did the missing sock go?), Comedy Birthday Cake Production Routine (The funniest and most memorable part of any kids birthday party.), Dazzling Divination! (A pocket mentalism effect that is always ready to go. If you do safety magic, heres a strong effect that packs real small.) and Sweet Sixteen (A great commercial effect that really gets your customers message across.)\\n\\nIncluded in his latest book is a bonus chapter entitled, Putting a Little Magic in your Life and Business.  A book in itself!  Not just for magicians, but for anyone who wants to add a little magic to their life, and stand out amongst the crowd.  Learn ways to get known and not forgotten! By setting up your magical reputation, your business card wont be stuck in the middle of a pile  YOU can control it to the top!]</td>\n",
       "      <td>NaN</td>\n",
       "      <td>...</td>\n",
       "      <td>NaN</td>\n",
       "      <td>NaN</td>\n",
       "      <td>NaN</td>\n",
       "      <td>NaN</td>\n",
       "      <td>NaN</td>\n",
       "      <td>NaN</td>\n",
       "      <td>NaN</td>\n",
       "      <td>NaN</td>\n",
       "      <td>NaN</td>\n",
       "      <td>NaN</td>\n",
       "    </tr>\n",
       "    <tr>\n",
       "      <th>3</th>\n",
       "      <td>Ashes to Ashes, Oranges to Oranges</td>\n",
       "      <td>Flickerlamp Publishing</td>\n",
       "      <td>[Package Dimensions:\\n                    \\n8.3 x 5.5 x 0.3 inches, Shipping Weight:\\n                    \\n5.6 ounces]</td>\n",
       "      <td>19,734,184inClothing,ShoesJewelry(</td>\n",
       "      <td>5 star</td>\n",
       "      <td>1940735033</td>\n",
       "      <td>[https://images-na.ssl-images-amazon.com/images/I/41VHFlSGjoL._SR38,50_.jpg]</td>\n",
       "      <td>[https://images-na.ssl-images-amazon.com/images/I/41VHFlSGjoL.jpg]</td>\n",
       "      <td>NaN</td>\n",
       "      <td>NaN</td>\n",
       "      <td>...</td>\n",
       "      <td>NaN</td>\n",
       "      <td>NaN</td>\n",
       "      <td>NaN</td>\n",
       "      <td>NaN</td>\n",
       "      <td>NaN</td>\n",
       "      <td>NaN</td>\n",
       "      <td>NaN</td>\n",
       "      <td>NaN</td>\n",
       "      <td>NaN</td>\n",
       "      <td>NaN</td>\n",
       "    </tr>\n",
       "    <tr>\n",
       "      <th>4</th>\n",
       "      <td>Aether &amp; Empire #1 - 2016 First Printing Comic Book Special Edition - Rare! - Blue Juice Comics</td>\n",
       "      <td>NaN</td>\n",
       "      <td>[Package Dimensions:\\n                    \\n10.5 x 6.5 x 0.2 inches, Shipping Weight:\\n                    \\n6.4 ounces (View shipping rates and policies)]</td>\n",
       "      <td>10,558,646inClothing,Shoesamp;Jewelry(</td>\n",
       "      <td>5 star</td>\n",
       "      <td>1940967805</td>\n",
       "      <td>[https://images-na.ssl-images-amazon.com/images/I/418HGjTDbRL._SR38,50_.jpg]</td>\n",
       "      <td>[https://images-na.ssl-images-amazon.com/images/I/418HGjTDbRL.jpg]</td>\n",
       "      <td>NaN</td>\n",
       "      <td>$4.50</td>\n",
       "      <td>...</td>\n",
       "      <td>NaN</td>\n",
       "      <td>NaN</td>\n",
       "      <td>NaN</td>\n",
       "      <td>NaN</td>\n",
       "      <td>NaN</td>\n",
       "      <td>NaN</td>\n",
       "      <td>NaN</td>\n",
       "      <td>NaN</td>\n",
       "      <td>NaN</td>\n",
       "      <td>NaN</td>\n",
       "    </tr>\n",
       "  </tbody>\n",
       "</table>\n",
       "<p>5 rows × 50 columns</p>\n",
       "</div>"
      ],
      "text/plain": [
       "                                                                                                                      title  \\\n",
       "0  Slime Time Fall Fest [With CDROM and Collector Cards and Neutron Balls, Incredi-Ball and Glow Stick Necklace, Paper Fram   \n",
       "1                 XCC Qi promise new spider snake preparing men's accessories alloy fittings magnet buckle bracelet jewelry   \n",
       "2                                                                                        Magical Things I Really Do Do Too!   \n",
       "3                                                                                        Ashes to Ashes, Oranges to Oranges   \n",
       "4                           Aether & Empire #1 - 2016 First Printing Comic Book Special Edition - Rare! - Blue Juice Comics   \n",
       "\n",
       "                    brand  \\\n",
       "0   Group Publishing (CO)   \n",
       "1                     NaN   \n",
       "2       Christopher Manos   \n",
       "3  Flickerlamp Publishing   \n",
       "4                     NaN   \n",
       "\n",
       "                                                                                                                                                       feature  \\\n",
       "0                                     [Product Dimensions:\\n                    \\n8.7 x 3.6 x 11.4 inches, Shipping Weight:\\n                    \\n2.4 pounds]   \n",
       "1                                                                                                                                                          NaN   \n",
       "2                                      [Package Dimensions:\\n                    \\n8.5 x 5.5 x 0.4 inches, Shipping Weight:\\n                    \\n6.1 ounces]   \n",
       "3                                      [Package Dimensions:\\n                    \\n8.3 x 5.5 x 0.3 inches, Shipping Weight:\\n                    \\n5.6 ounces]   \n",
       "4  [Package Dimensions:\\n                    \\n10.5 x 6.5 x 0.2 inches, Shipping Weight:\\n                    \\n6.4 ounces (View shipping rates and policies)]   \n",
       "\n",
       "                                     rank         date        asin  \\\n",
       "0  13,052,976inClothing,Shoesamp;Jewelry(  8.70 inches  0764443682   \n",
       "1  11,654,581inClothing,Shoesamp;Jewelry(       5 star  1291691480   \n",
       "2      19,308,073inClothing,ShoesJewelry(       5 star  1940280001   \n",
       "3      19,734,184inClothing,ShoesJewelry(       5 star  1940735033   \n",
       "4  10,558,646inClothing,Shoesamp;Jewelry(       5 star  1940967805   \n",
       "\n",
       "                                                                                                                                                                                                                      imageURL  \\\n",
       "0                                                                                                                                                    [https://images-na.ssl-images-amazon.com/images/I/51bSrINiWpL._US40_.jpg]   \n",
       "1  [https://images-na.ssl-images-amazon.com/images/I/41BCH7-4vHL._US40_.jpg, https://images-na.ssl-images-amazon.com/images/I/41FpbB--SoL._US40_.jpg, https://images-na.ssl-images-amazon.com/images/I/51twQYJo0NL._US40_.jpg]   \n",
       "2                                                                 [https://images-na.ssl-images-amazon.com/images/I/4196%2BTu5T%2BL._SR38,50_.jpg, https://images-na.ssl-images-amazon.com/images/I/31N2zBaedSL._SR38,50_.jpg]   \n",
       "3                                                                                                                                                 [https://images-na.ssl-images-amazon.com/images/I/41VHFlSGjoL._SR38,50_.jpg]   \n",
       "4                                                                                                                                                 [https://images-na.ssl-images-amazon.com/images/I/418HGjTDbRL._SR38,50_.jpg]   \n",
       "\n",
       "                                                                                                                                                                                          imageURLHighRes  \\\n",
       "0                                                                                                                                      [https://images-na.ssl-images-amazon.com/images/I/51bSrINiWpL.jpg]   \n",
       "1  [https://images-na.ssl-images-amazon.com/images/I/41BCH7-4vHL.jpg, https://images-na.ssl-images-amazon.com/images/I/41FpbB--SoL.jpg, https://images-na.ssl-images-amazon.com/images/I/51twQYJo0NL.jpg]   \n",
       "2                                                                [https://images-na.ssl-images-amazon.com/images/I/4196%2BTu5T%2BL.jpg, https://images-na.ssl-images-amazon.com/images/I/31N2zBaedSL.jpg]   \n",
       "3                                                                                                                                      [https://images-na.ssl-images-amazon.com/images/I/41VHFlSGjoL.jpg]   \n",
       "4                                                                                                                                      [https://images-na.ssl-images-amazon.com/images/I/418HGjTDbRL.jpg]   \n",
       "\n",
       "                                                                                                                                                                                                                                                                                                                                                                                                                                                                                                                                                                                                                                                                                                                                                                                                                                                                                                                                                                                                                                                                                                                                                                                                                                                                                                                                                   description  \\\n",
       "0                                                                                                                                                                                                                                                                                                                                                                                                                                                                                                                                                                                                                                                                                                                                                                                                                                                                                                                                                                                                                                                                                                                                                                                                                                                                                                                                                          NaN   \n",
       "1                                                                                                                                                                                                                                                                                                                                                                                                                                                                                                                                                                                                                                                                                                                                                                                                                                                                                                                                                                                                                                                                                                                                                                                                                                                                                                                                                          NaN   \n",
       "2  [For the professional or amateur magician.  Routines include: The Thought Transmitter (An accidental USAF experiment that became a hit at the Denver Playboy Club and continues through today!), Three Card Match (The trick that fooled Dai Vernon), Numbo-Jumbo (A stack of 85 cards containing random 2 and 4 digit numbers is apparently memorized), The Binary Box (Light the light  even rocket scientists could not figure it out!), Kryptonite! (Anyone can be a superhero and save the day!), Laundry Quandary (Where did the missing sock go?), Comedy Birthday Cake Production Routine (The funniest and most memorable part of any kids birthday party.), Dazzling Divination! (A pocket mentalism effect that is always ready to go. If you do safety magic, heres a strong effect that packs real small.) and Sweet Sixteen (A great commercial effect that really gets your customers message across.)\\n\\nIncluded in his latest book is a bonus chapter entitled, Putting a Little Magic in your Life and Business.  A book in itself!  Not just for magicians, but for anyone who wants to add a little magic to their life, and stand out amongst the crowd.  Learn ways to get known and not forgotten! By setting up your magical reputation, your business card wont be stuck in the middle of a pile  YOU can control it to the top!]   \n",
       "3                                                                                                                                                                                                                                                                                                                                                                                                                                                                                                                                                                                                                                                                                                                                                                                                                                                                                                                                                                                                                                                                                                                                                                                                                                                                                                                                                          NaN   \n",
       "4                                                                                                                                                                                                                                                                                                                                                                                                                                                                                                                                                                                                                                                                                                                                                                                                                                                                                                                                                                                                                                                                                                                                                                                                                                                                                                                                                          NaN   \n",
       "\n",
       "   price  ... tech1_Item Package Quantity tech1_Batteries Included?  \\\n",
       "0    NaN  ...                         NaN                       NaN   \n",
       "1    NaN  ...                         NaN                       NaN   \n",
       "2    NaN  ...                         NaN                       NaN   \n",
       "3    NaN  ...                         NaN                       NaN   \n",
       "4  $4.50  ...                         NaN                       NaN   \n",
       "\n",
       "  tech1_Batteries Required? tech1_Material tech1_Style tech1_Number Of Pieces  \\\n",
       "0                       NaN            NaN         NaN                    NaN   \n",
       "1                       NaN            NaN         NaN                    NaN   \n",
       "2                       NaN            NaN         NaN                    NaN   \n",
       "3                       NaN            NaN         NaN                    NaN   \n",
       "4                       NaN            NaN         NaN                    NaN   \n",
       "\n",
       "  tech1_Special Features tech1_Included Components  \\\n",
       "0                    NaN                       NaN   \n",
       "1                    NaN                       NaN   \n",
       "2                    NaN                       NaN   \n",
       "3                    NaN                       NaN   \n",
       "4                    NaN                       NaN   \n",
       "\n",
       "  tech1_Discontinued by manufacturer tech1_Closure  \n",
       "0                                NaN           NaN  \n",
       "1                                NaN           NaN  \n",
       "2                                NaN           NaN  \n",
       "3                                NaN           NaN  \n",
       "4                                NaN           NaN  \n",
       "\n",
       "[5 rows x 50 columns]"
      ]
     },
     "execution_count": 8,
     "metadata": {},
     "output_type": "execute_result"
    }
   ],
   "source": [
    "df_meta.head()"
   ]
  },
  {
   "cell_type": "code",
   "execution_count": 9,
   "id": "e706878b",
   "metadata": {},
   "outputs": [],
   "source": [
    "# reading review data\n",
    "\n",
    "data_review = get_data(\"/home/chitransh/Documents/personal/tf_interview_review_FASHION.json\")\n",
    "df_review = data_to_dataframe(data_review, switch=True)"
   ]
  },
  {
   "cell_type": "code",
   "execution_count": 10,
   "id": "750a928b",
   "metadata": {},
   "outputs": [
    {
     "data": {
      "text/html": [
       "<div>\n",
       "<style scoped>\n",
       "    .dataframe tbody tr th:only-of-type {\n",
       "        vertical-align: middle;\n",
       "    }\n",
       "\n",
       "    .dataframe tbody tr th {\n",
       "        vertical-align: top;\n",
       "    }\n",
       "\n",
       "    .dataframe thead th {\n",
       "        text-align: right;\n",
       "    }\n",
       "</style>\n",
       "<table border=\"1\" class=\"dataframe\">\n",
       "  <thead>\n",
       "    <tr style=\"text-align: right;\">\n",
       "      <th></th>\n",
       "      <th>overall</th>\n",
       "      <th>verified</th>\n",
       "      <th>reviewTime</th>\n",
       "      <th>reviewerID</th>\n",
       "      <th>asin</th>\n",
       "      <th>style_Color:</th>\n",
       "      <th>reviewerName</th>\n",
       "      <th>reviewText</th>\n",
       "      <th>summary</th>\n",
       "      <th>unixReviewTime</th>\n",
       "      <th>...</th>\n",
       "      <th>style_Team Name:</th>\n",
       "      <th>style_Style Name:</th>\n",
       "      <th>style_Format:</th>\n",
       "      <th>style_Package Quantity:</th>\n",
       "      <th>style_Material:</th>\n",
       "      <th>style_Item Display Length:</th>\n",
       "      <th>style_Gem Type:</th>\n",
       "      <th>style_Item Package Quantity:</th>\n",
       "      <th>style_Scent Name:</th>\n",
       "      <th>style_Shape:</th>\n",
       "    </tr>\n",
       "  </thead>\n",
       "  <tbody>\n",
       "    <tr>\n",
       "      <th>0</th>\n",
       "      <td>1.0</td>\n",
       "      <td>True</td>\n",
       "      <td>07 27, 2017</td>\n",
       "      <td>A19OTBIPAMJUU1</td>\n",
       "      <td>B00007GDFV</td>\n",
       "      <td>Black</td>\n",
       "      <td>Constance J Tomazic</td>\n",
       "      <td>Don't like it. It will not hold my cigarettes. Not long enough.</td>\n",
       "      <td>One Star</td>\n",
       "      <td>1501113600</td>\n",
       "      <td>...</td>\n",
       "      <td>NaN</td>\n",
       "      <td>NaN</td>\n",
       "      <td>NaN</td>\n",
       "      <td>NaN</td>\n",
       "      <td>NaN</td>\n",
       "      <td>NaN</td>\n",
       "      <td>NaN</td>\n",
       "      <td>NaN</td>\n",
       "      <td>NaN</td>\n",
       "      <td>NaN</td>\n",
       "    </tr>\n",
       "    <tr>\n",
       "      <th>1</th>\n",
       "      <td>4.0</td>\n",
       "      <td>True</td>\n",
       "      <td>07 16, 2017</td>\n",
       "      <td>A3IT0MD9QUFZEK</td>\n",
       "      <td>B00007GDFV</td>\n",
       "      <td>Black</td>\n",
       "      <td>Amazon Customer</td>\n",
       "      <td>love</td>\n",
       "      <td>Four Stars</td>\n",
       "      <td>1500163200</td>\n",
       "      <td>...</td>\n",
       "      <td>NaN</td>\n",
       "      <td>NaN</td>\n",
       "      <td>NaN</td>\n",
       "      <td>NaN</td>\n",
       "      <td>NaN</td>\n",
       "      <td>NaN</td>\n",
       "      <td>NaN</td>\n",
       "      <td>NaN</td>\n",
       "      <td>NaN</td>\n",
       "      <td>NaN</td>\n",
       "    </tr>\n",
       "    <tr>\n",
       "      <th>2</th>\n",
       "      <td>4.0</td>\n",
       "      <td>True</td>\n",
       "      <td>07 2, 2017</td>\n",
       "      <td>A1IER9LE7FBJ95</td>\n",
       "      <td>B00007GDFV</td>\n",
       "      <td>Black</td>\n",
       "      <td>Angel3954</td>\n",
       "      <td>Wonderful item. I have purchased several of these. They last forever unless you lose them.  I am happy with my purchase Buxton is made to last.</td>\n",
       "      <td>Made to last</td>\n",
       "      <td>1498953600</td>\n",
       "      <td>...</td>\n",
       "      <td>NaN</td>\n",
       "      <td>NaN</td>\n",
       "      <td>NaN</td>\n",
       "      <td>NaN</td>\n",
       "      <td>NaN</td>\n",
       "      <td>NaN</td>\n",
       "      <td>NaN</td>\n",
       "      <td>NaN</td>\n",
       "      <td>NaN</td>\n",
       "      <td>NaN</td>\n",
       "    </tr>\n",
       "    <tr>\n",
       "      <th>3</th>\n",
       "      <td>5.0</td>\n",
       "      <td>True</td>\n",
       "      <td>06 27, 2017</td>\n",
       "      <td>A3DZQ7TB4ZUWKG</td>\n",
       "      <td>B00007GDFV</td>\n",
       "      <td>Black</td>\n",
       "      <td>yolanda hernandez</td>\n",
       "      <td>I just love it! I think this is my six or seven case from Buxton. They are very stylish, durable and proper if you don't want your cigarette packet crushed inside your purse</td>\n",
       "      <td>LOVE IT!</td>\n",
       "      <td>1498521600</td>\n",
       "      <td>...</td>\n",
       "      <td>NaN</td>\n",
       "      <td>NaN</td>\n",
       "      <td>NaN</td>\n",
       "      <td>NaN</td>\n",
       "      <td>NaN</td>\n",
       "      <td>NaN</td>\n",
       "      <td>NaN</td>\n",
       "      <td>NaN</td>\n",
       "      <td>NaN</td>\n",
       "      <td>NaN</td>\n",
       "    </tr>\n",
       "    <tr>\n",
       "      <th>4</th>\n",
       "      <td>4.0</td>\n",
       "      <td>True</td>\n",
       "      <td>06 22, 2017</td>\n",
       "      <td>A199RALD1NLRC1</td>\n",
       "      <td>B00007GDFV</td>\n",
       "      <td>Black</td>\n",
       "      <td>Joni</td>\n",
       "      <td>made well but will only hold a small pack of ciggs I don't smoke I use  this as a tip holder for work I bought a different one last year but it is falling apart so I replaced it with this brand.  The zipper compartment won't hold anything its to small</td>\n",
       "      <td>made well but will only hold a small pack of ...</td>\n",
       "      <td>1498089600</td>\n",
       "      <td>...</td>\n",
       "      <td>NaN</td>\n",
       "      <td>NaN</td>\n",
       "      <td>NaN</td>\n",
       "      <td>NaN</td>\n",
       "      <td>NaN</td>\n",
       "      <td>NaN</td>\n",
       "      <td>NaN</td>\n",
       "      <td>NaN</td>\n",
       "      <td>NaN</td>\n",
       "      <td>NaN</td>\n",
       "    </tr>\n",
       "  </tbody>\n",
       "</table>\n",
       "<p>5 rows × 27 columns</p>\n",
       "</div>"
      ],
      "text/plain": [
       "   overall  verified   reviewTime      reviewerID        asin style_Color:  \\\n",
       "0      1.0      True  07 27, 2017  A19OTBIPAMJUU1  B00007GDFV        Black   \n",
       "1      4.0      True  07 16, 2017  A3IT0MD9QUFZEK  B00007GDFV        Black   \n",
       "2      4.0      True   07 2, 2017  A1IER9LE7FBJ95  B00007GDFV        Black   \n",
       "3      5.0      True  06 27, 2017  A3DZQ7TB4ZUWKG  B00007GDFV        Black   \n",
       "4      4.0      True  06 22, 2017  A199RALD1NLRC1  B00007GDFV        Black   \n",
       "\n",
       "          reviewerName  \\\n",
       "0  Constance J Tomazic   \n",
       "1      Amazon Customer   \n",
       "2            Angel3954   \n",
       "3    yolanda hernandez   \n",
       "4                 Joni   \n",
       "\n",
       "                                                                                                                                                                                                                                                    reviewText  \\\n",
       "0                                                                                                                                                                                              Don't like it. It will not hold my cigarettes. Not long enough.   \n",
       "1                                                                                                                                                                                                                                                         love   \n",
       "2                                                                                                              Wonderful item. I have purchased several of these. They last forever unless you lose them.  I am happy with my purchase Buxton is made to last.   \n",
       "3                                                                                I just love it! I think this is my six or seven case from Buxton. They are very stylish, durable and proper if you don't want your cigarette packet crushed inside your purse   \n",
       "4  made well but will only hold a small pack of ciggs I don't smoke I use  this as a tip holder for work I bought a different one last year but it is falling apart so I replaced it with this brand.  The zipper compartment won't hold anything its to small   \n",
       "\n",
       "                                            summary  unixReviewTime  ...  \\\n",
       "0                                          One Star      1501113600  ...   \n",
       "1                                        Four Stars      1500163200  ...   \n",
       "2                                      Made to last      1498953600  ...   \n",
       "3                                          LOVE IT!      1498521600  ...   \n",
       "4  made well but will only hold a small pack of ...      1498089600  ...   \n",
       "\n",
       "  style_Team Name: style_Style Name: style_Format: style_Package Quantity:  \\\n",
       "0              NaN               NaN           NaN                     NaN   \n",
       "1              NaN               NaN           NaN                     NaN   \n",
       "2              NaN               NaN           NaN                     NaN   \n",
       "3              NaN               NaN           NaN                     NaN   \n",
       "4              NaN               NaN           NaN                     NaN   \n",
       "\n",
       "  style_Material: style_Item Display Length: style_Gem Type:  \\\n",
       "0             NaN                        NaN             NaN   \n",
       "1             NaN                        NaN             NaN   \n",
       "2             NaN                        NaN             NaN   \n",
       "3             NaN                        NaN             NaN   \n",
       "4             NaN                        NaN             NaN   \n",
       "\n",
       "  style_Item Package Quantity: style_Scent Name: style_Shape:  \n",
       "0                          NaN               NaN          NaN  \n",
       "1                          NaN               NaN          NaN  \n",
       "2                          NaN               NaN          NaN  \n",
       "3                          NaN               NaN          NaN  \n",
       "4                          NaN               NaN          NaN  \n",
       "\n",
       "[5 rows x 27 columns]"
      ]
     },
     "execution_count": 10,
     "metadata": {},
     "output_type": "execute_result"
    }
   ],
   "source": [
    "df_review.head()"
   ]
  },
  {
   "cell_type": "code",
   "execution_count": 11,
   "id": "de66d2d1",
   "metadata": {},
   "outputs": [
    {
     "name": "stdout",
     "output_type": "stream",
     "text": [
      "title                                 object\n",
      "brand                                 object\n",
      "feature                               object\n",
      "rank                                  object\n",
      "date                                  object\n",
      "asin                                  object\n",
      "imageURL                              object\n",
      "imageURLHighRes                       object\n",
      "description                           object\n",
      "price                                 object\n",
      "also_view                             object\n",
      "also_buy                              object\n",
      "fit                                   object\n",
      "details                               object\n",
      "similar_item                          object\n",
      "tech1_Brand Name                      object\n",
      "tech1_Item Weight                     object\n",
      "tech1_Product Dimensions              object\n",
      "tech1_California residents            object\n",
      "tech1_Item model number               object\n",
      "tech1_Color                           object\n",
      "tech1_Cover Material                  object\n",
      "tech1_Material Type                   object\n",
      "tech1_Number of Items                 object\n",
      "tech1_Size                            object\n",
      "tech1_Point Type                      object\n",
      "tech1_Ink Color                       object\n",
      "tech1_Manufacturer Part Number        object\n",
      "tech1_Weight                          object\n",
      "tech1_Assembled Length                object\n",
      "tech1_Brand                           object\n",
      "tech1_Model                           object\n",
      "tech1_Package Dimensions              object\n",
      "tech1_Vehicle Service Type            object\n",
      "tech1_Folding                         object\n",
      "tech1_Item Dimensions  L x W x H      object\n",
      "tech1_Voltage                         object\n",
      "tech1_Assembled Height                object\n",
      "tech1_Assembled Width                 object\n",
      "tech1_Part Number                     object\n",
      "tech1_Item Package Quantity           object\n",
      "tech1_Batteries Included?             object\n",
      "tech1_Batteries Required?             object\n",
      "tech1_Material                        object\n",
      "tech1_Style                           object\n",
      "tech1_Number Of Pieces                object\n",
      "tech1_Special Features                object\n",
      "tech1_Included Components             object\n",
      "tech1_Discontinued by manufacturer    object\n",
      "tech1_Closure                         object\n",
      "dtype: object\n"
     ]
    }
   ],
   "source": [
    "print(df_meta.dtypes)"
   ]
  },
  {
   "cell_type": "code",
   "execution_count": 12,
   "id": "fd0bc4c0",
   "metadata": {},
   "outputs": [
    {
     "name": "stdout",
     "output_type": "stream",
     "text": [
      "overall                         float64\n",
      "verified                           bool\n",
      "reviewTime                       object\n",
      "reviewerID                       object\n",
      "asin                             object\n",
      "style_Color:                     object\n",
      "reviewerName                     object\n",
      "reviewText                       object\n",
      "summary                          object\n",
      "unixReviewTime                    int64\n",
      "vote                             object\n",
      "style_Size:                      object\n",
      "image                            object\n",
      "style_Metal Type:                object\n",
      "style_Size Name:                 object\n",
      "style_Style:                     object\n",
      "style_Length:                    object\n",
      "style_Team Name:                 object\n",
      "style_Style Name:                object\n",
      "style_Format:                    object\n",
      "style_Package Quantity:          object\n",
      "style_Material:                  object\n",
      "style_Item Display Length:       object\n",
      "style_Gem Type:                  object\n",
      "style_Item Package Quantity:     object\n",
      "style_Scent Name:                object\n",
      "style_Shape:                     object\n",
      "dtype: object\n"
     ]
    }
   ],
   "source": [
    "print(df_review.dtypes)"
   ]
  },
  {
   "cell_type": "markdown",
   "id": "8d88889c",
   "metadata": {},
   "source": [
    "## Conclusion 1: \n",
    "\n",
    "### We don't need product metadata as it doesn't help in reviewing process. We are looking into the ratings based on the reviews given. \n",
    "\n",
    "### Hence, we will only be exploring review data"
   ]
  },
  {
   "cell_type": "code",
   "execution_count": 13,
   "id": "4e8aedd3",
   "metadata": {},
   "outputs": [],
   "source": [
    "# our label is overall\n",
    "# we don't need review time, unixreviewtime and styles data. We will select only specific data to observer\n",
    "\n",
    "df_processed = df_review[[\"reviewerID\", \"asin\", \"overall\", \"verified\", \"reviewText\", \"summary\", \"vote\", \"image\"]]"
   ]
  },
  {
   "cell_type": "code",
   "execution_count": 14,
   "id": "49b13e79",
   "metadata": {},
   "outputs": [
    {
     "data": {
      "text/plain": [
       "reviewerID     0.000000\n",
       "asin           0.000000\n",
       "overall        0.000000\n",
       "verified       0.000000\n",
       "reviewText     0.139540\n",
       "summary        0.060320\n",
       "vote          90.957827\n",
       "image         96.739870\n",
       "dtype: float64"
      ]
     },
     "execution_count": 14,
     "metadata": {},
     "output_type": "execute_result"
    }
   ],
   "source": [
    "# Checking null values in all the columns\n",
    "\n",
    "100 * df_processed.isnull().sum(axis = 0)/df_processed.shape[0]"
   ]
  },
  {
   "cell_type": "markdown",
   "id": "66e54577",
   "metadata": {},
   "source": [
    "## Conclusion 2:\n",
    "\n",
    "### Vote and Image data have over 90% false. We cannot use them. Review Text is important to derive ratings. Summary can also help us in identifying polarity of review. So, we won't drop them. Given the size of data we can safely drop the rows with no records for these columns"
   ]
  },
  {
   "cell_type": "code",
   "execution_count": 15,
   "id": "73ad5ca1",
   "metadata": {},
   "outputs": [
    {
     "name": "stderr",
     "output_type": "stream",
     "text": [
      "/home/chitransh/Documents/personal/fashion_review/lib/python3.6/site-packages/pandas/core/frame.py:4174: SettingWithCopyWarning: \n",
      "A value is trying to be set on a copy of a slice from a DataFrame\n",
      "\n",
      "See the caveats in the documentation: https://pandas.pydata.org/pandas-docs/stable/user_guide/indexing.html#returning-a-view-versus-a-copy\n",
      "  errors=errors,\n"
     ]
    }
   ],
   "source": [
    "# Dropping vote and image column\n",
    "\n",
    "df_processed.drop([\"vote\", \"image\"], inplace=True, axis=1)"
   ]
  },
  {
   "cell_type": "code",
   "execution_count": 16,
   "id": "e37e0a54",
   "metadata": {},
   "outputs": [
    {
     "data": {
      "text/plain": [
       "(883615, 6)"
      ]
     },
     "execution_count": 16,
     "metadata": {},
     "output_type": "execute_result"
    }
   ],
   "source": [
    "df_processed.shape"
   ]
  },
  {
   "cell_type": "code",
   "execution_count": 17,
   "id": "65fa0422",
   "metadata": {},
   "outputs": [
    {
     "name": "stderr",
     "output_type": "stream",
     "text": [
      "/home/chitransh/Documents/personal/fashion_review/lib/python3.6/site-packages/ipykernel_launcher.py:3: SettingWithCopyWarning: \n",
      "A value is trying to be set on a copy of a slice from a DataFrame\n",
      "\n",
      "See the caveats in the documentation: https://pandas.pydata.org/pandas-docs/stable/user_guide/indexing.html#returning-a-view-versus-a-copy\n",
      "  This is separate from the ipykernel package so we can avoid doing imports until\n"
     ]
    }
   ],
   "source": [
    "# Dropping null records\n",
    "\n",
    "df_processed.dropna(inplace=True)"
   ]
  },
  {
   "cell_type": "code",
   "execution_count": 18,
   "id": "64418f2b",
   "metadata": {},
   "outputs": [
    {
     "data": {
      "text/plain": [
       "(881879, 6)"
      ]
     },
     "execution_count": 18,
     "metadata": {},
     "output_type": "execute_result"
    }
   ],
   "source": [
    "df_processed.shape"
   ]
  },
  {
   "cell_type": "code",
   "execution_count": 19,
   "id": "a645cf38",
   "metadata": {},
   "outputs": [
    {
     "data": {
      "text/html": [
       "<div>\n",
       "<style scoped>\n",
       "    .dataframe tbody tr th:only-of-type {\n",
       "        vertical-align: middle;\n",
       "    }\n",
       "\n",
       "    .dataframe tbody tr th {\n",
       "        vertical-align: top;\n",
       "    }\n",
       "\n",
       "    .dataframe thead th {\n",
       "        text-align: right;\n",
       "    }\n",
       "</style>\n",
       "<table border=\"1\" class=\"dataframe\">\n",
       "  <thead>\n",
       "    <tr style=\"text-align: right;\">\n",
       "      <th></th>\n",
       "      <th>reviewerID</th>\n",
       "      <th>asin</th>\n",
       "      <th>overall</th>\n",
       "      <th>verified</th>\n",
       "      <th>reviewText</th>\n",
       "      <th>summary</th>\n",
       "    </tr>\n",
       "  </thead>\n",
       "  <tbody>\n",
       "    <tr>\n",
       "      <th>0</th>\n",
       "      <td>A19OTBIPAMJUU1</td>\n",
       "      <td>B00007GDFV</td>\n",
       "      <td>1.0</td>\n",
       "      <td>True</td>\n",
       "      <td>Don't like it. It will not hold my cigarettes. Not long enough.</td>\n",
       "      <td>One Star</td>\n",
       "    </tr>\n",
       "    <tr>\n",
       "      <th>1</th>\n",
       "      <td>A3IT0MD9QUFZEK</td>\n",
       "      <td>B00007GDFV</td>\n",
       "      <td>4.0</td>\n",
       "      <td>True</td>\n",
       "      <td>love</td>\n",
       "      <td>Four Stars</td>\n",
       "    </tr>\n",
       "    <tr>\n",
       "      <th>2</th>\n",
       "      <td>A1IER9LE7FBJ95</td>\n",
       "      <td>B00007GDFV</td>\n",
       "      <td>4.0</td>\n",
       "      <td>True</td>\n",
       "      <td>Wonderful item. I have purchased several of these. They last forever unless you lose them.  I am happy with my purchase Buxton is made to last.</td>\n",
       "      <td>Made to last</td>\n",
       "    </tr>\n",
       "    <tr>\n",
       "      <th>3</th>\n",
       "      <td>A3DZQ7TB4ZUWKG</td>\n",
       "      <td>B00007GDFV</td>\n",
       "      <td>5.0</td>\n",
       "      <td>True</td>\n",
       "      <td>I just love it! I think this is my six or seven case from Buxton. They are very stylish, durable and proper if you don't want your cigarette packet crushed inside your purse</td>\n",
       "      <td>LOVE IT!</td>\n",
       "    </tr>\n",
       "    <tr>\n",
       "      <th>4</th>\n",
       "      <td>A199RALD1NLRC1</td>\n",
       "      <td>B00007GDFV</td>\n",
       "      <td>4.0</td>\n",
       "      <td>True</td>\n",
       "      <td>made well but will only hold a small pack of ciggs I don't smoke I use  this as a tip holder for work I bought a different one last year but it is falling apart so I replaced it with this brand.  The zipper compartment won't hold anything its to small</td>\n",
       "      <td>made well but will only hold a small pack of ...</td>\n",
       "    </tr>\n",
       "  </tbody>\n",
       "</table>\n",
       "</div>"
      ],
      "text/plain": [
       "       reviewerID        asin  overall  verified  \\\n",
       "0  A19OTBIPAMJUU1  B00007GDFV      1.0      True   \n",
       "1  A3IT0MD9QUFZEK  B00007GDFV      4.0      True   \n",
       "2  A1IER9LE7FBJ95  B00007GDFV      4.0      True   \n",
       "3  A3DZQ7TB4ZUWKG  B00007GDFV      5.0      True   \n",
       "4  A199RALD1NLRC1  B00007GDFV      4.0      True   \n",
       "\n",
       "                                                                                                                                                                                                                                                    reviewText  \\\n",
       "0                                                                                                                                                                                              Don't like it. It will not hold my cigarettes. Not long enough.   \n",
       "1                                                                                                                                                                                                                                                         love   \n",
       "2                                                                                                              Wonderful item. I have purchased several of these. They last forever unless you lose them.  I am happy with my purchase Buxton is made to last.   \n",
       "3                                                                                I just love it! I think this is my six or seven case from Buxton. They are very stylish, durable and proper if you don't want your cigarette packet crushed inside your purse   \n",
       "4  made well but will only hold a small pack of ciggs I don't smoke I use  this as a tip holder for work I bought a different one last year but it is falling apart so I replaced it with this brand.  The zipper compartment won't hold anything its to small   \n",
       "\n",
       "                                            summary  \n",
       "0                                          One Star  \n",
       "1                                        Four Stars  \n",
       "2                                      Made to last  \n",
       "3                                          LOVE IT!  \n",
       "4  made well but will only hold a small pack of ...  "
      ]
     },
     "execution_count": 19,
     "metadata": {},
     "output_type": "execute_result"
    }
   ],
   "source": [
    "df_processed.head()"
   ]
  },
  {
   "cell_type": "code",
   "execution_count": 20,
   "id": "dc265cfe",
   "metadata": {},
   "outputs": [
    {
     "data": {
      "text/plain": [
       "<AxesSubplot:>"
      ]
     },
     "execution_count": 20,
     "metadata": {},
     "output_type": "execute_result"
    },
    {
     "data": {
      "image/png": "[encoded data removed]",
      "text/plain": [
       "<Figure size 432x288 with 1 Axes>"
      ]
     },
     "metadata": {
      "needs_background": "light"
     },
     "output_type": "display_data"
    }
   ],
   "source": [
    "df_processed[df_processed.verified==True]['overall'].hist(bins=[1,2,3,4,5])"
   ]
  },
  {
   "cell_type": "code",
   "execution_count": 21,
   "id": "4d90008e",
   "metadata": {},
   "outputs": [
    {
     "data": {
      "text/plain": [
       "<AxesSubplot:>"
      ]
     },
     "execution_count": 21,
     "metadata": {},
     "output_type": "execute_result"
    },
    {
     "data": {
      "image/png": "[encoded data removed]",
      "text/plain": [
       "<Figure size 432x288 with 1 Axes>"
      ]
     },
     "metadata": {
      "needs_background": "light"
     },
     "output_type": "display_data"
    }
   ],
   "source": [
    "df_processed[df_processed.verified==False]['overall'].hist(bins=[1,2,3,4,5])"
   ]
  },
  {
   "cell_type": "code",
   "execution_count": 22,
   "id": "1e12eeb7",
   "metadata": {},
   "outputs": [
    {
     "name": "stderr",
     "output_type": "stream",
     "text": [
      "/home/chitransh/Documents/personal/fashion_review/lib/python3.6/site-packages/pandas/core/frame.py:4174: SettingWithCopyWarning: \n",
      "A value is trying to be set on a copy of a slice from a DataFrame\n",
      "\n",
      "See the caveats in the documentation: https://pandas.pydata.org/pandas-docs/stable/user_guide/indexing.html#returning-a-view-versus-a-copy\n",
      "  errors=errors,\n"
     ]
    }
   ],
   "source": [
    "# Combining reviewText and Summary to reduce feature complexity and dropping verified column as it holds no value\n",
    "\n",
    "df_processed.drop('verified', inplace=True, axis=1)\n"
   ]
  },
  {
   "cell_type": "code",
   "execution_count": 23,
   "id": "3f10ddf2",
   "metadata": {},
   "outputs": [
    {
     "name": "stderr",
     "output_type": "stream",
     "text": [
      "/home/chitransh/Documents/personal/fashion_review/lib/python3.6/site-packages/ipykernel_launcher.py:1: SettingWithCopyWarning: \n",
      "A value is trying to be set on a copy of a slice from a DataFrame.\n",
      "Try using .loc[row_indexer,col_indexer] = value instead\n",
      "\n",
      "See the caveats in the documentation: https://pandas.pydata.org/pandas-docs/stable/user_guide/indexing.html#returning-a-view-versus-a-copy\n",
      "  \"\"\"Entry point for launching an IPython kernel.\n"
     ]
    }
   ],
   "source": [
    "df_processed['review'] = df_processed['reviewText'] + ' ' + df_processed['summary']"
   ]
  },
  {
   "cell_type": "code",
   "execution_count": 24,
   "id": "6e20e1d7",
   "metadata": {},
   "outputs": [],
   "source": [
    "df_processed.drop(['reviewText', 'summary'], axis=1, inplace=True)"
   ]
  },
  {
   "cell_type": "code",
   "execution_count": 25,
   "id": "6d2e6a1a",
   "metadata": {},
   "outputs": [
    {
     "data": {
      "text/html": [
       "<div>\n",
       "<style scoped>\n",
       "    .dataframe tbody tr th:only-of-type {\n",
       "        vertical-align: middle;\n",
       "    }\n",
       "\n",
       "    .dataframe tbody tr th {\n",
       "        vertical-align: top;\n",
       "    }\n",
       "\n",
       "    .dataframe thead th {\n",
       "        text-align: right;\n",
       "    }\n",
       "</style>\n",
       "<table border=\"1\" class=\"dataframe\">\n",
       "  <thead>\n",
       "    <tr style=\"text-align: right;\">\n",
       "      <th></th>\n",
       "      <th>reviewerID</th>\n",
       "      <th>asin</th>\n",
       "      <th>overall</th>\n",
       "      <th>review</th>\n",
       "    </tr>\n",
       "  </thead>\n",
       "  <tbody>\n",
       "    <tr>\n",
       "      <th>0</th>\n",
       "      <td>A19OTBIPAMJUU1</td>\n",
       "      <td>B00007GDFV</td>\n",
       "      <td>1.0</td>\n",
       "      <td>Don't like it. It will not hold my cigarettes. Not long enough. One Star</td>\n",
       "    </tr>\n",
       "    <tr>\n",
       "      <th>1</th>\n",
       "      <td>A3IT0MD9QUFZEK</td>\n",
       "      <td>B00007GDFV</td>\n",
       "      <td>4.0</td>\n",
       "      <td>love Four Stars</td>\n",
       "    </tr>\n",
       "    <tr>\n",
       "      <th>2</th>\n",
       "      <td>A1IER9LE7FBJ95</td>\n",
       "      <td>B00007GDFV</td>\n",
       "      <td>4.0</td>\n",
       "      <td>Wonderful item. I have purchased several of these. They last forever unless you lose them.  I am happy with my purchase Buxton is made to last. Made to last</td>\n",
       "    </tr>\n",
       "    <tr>\n",
       "      <th>3</th>\n",
       "      <td>A3DZQ7TB4ZUWKG</td>\n",
       "      <td>B00007GDFV</td>\n",
       "      <td>5.0</td>\n",
       "      <td>I just love it! I think this is my six or seven case from Buxton. They are very stylish, durable and proper if you don't want your cigarette packet crushed inside your purse LOVE IT!</td>\n",
       "    </tr>\n",
       "    <tr>\n",
       "      <th>4</th>\n",
       "      <td>A199RALD1NLRC1</td>\n",
       "      <td>B00007GDFV</td>\n",
       "      <td>4.0</td>\n",
       "      <td>made well but will only hold a small pack of ciggs I don't smoke I use  this as a tip holder for work I bought a different one last year but it is falling apart so I replaced it with this brand.  The zipper compartment won't hold anything its to small made well but will only hold a small pack of ...</td>\n",
       "    </tr>\n",
       "  </tbody>\n",
       "</table>\n",
       "</div>"
      ],
      "text/plain": [
       "       reviewerID        asin  overall  \\\n",
       "0  A19OTBIPAMJUU1  B00007GDFV      1.0   \n",
       "1  A3IT0MD9QUFZEK  B00007GDFV      4.0   \n",
       "2  A1IER9LE7FBJ95  B00007GDFV      4.0   \n",
       "3  A3DZQ7TB4ZUWKG  B00007GDFV      5.0   \n",
       "4  A199RALD1NLRC1  B00007GDFV      4.0   \n",
       "\n",
       "                                                                                                                                                                                                                                                                                                         review  \n",
       "0                                                                                                                                                                                                                                      Don't like it. It will not hold my cigarettes. Not long enough. One Star  \n",
       "1                                                                                                                                                                                                                                                                                               love Four Stars  \n",
       "2                                                                                                                                                  Wonderful item. I have purchased several of these. They last forever unless you lose them.  I am happy with my purchase Buxton is made to last. Made to last  \n",
       "3                                                                                                                        I just love it! I think this is my six or seven case from Buxton. They are very stylish, durable and proper if you don't want your cigarette packet crushed inside your purse LOVE IT!  \n",
       "4  made well but will only hold a small pack of ciggs I don't smoke I use  this as a tip holder for work I bought a different one last year but it is falling apart so I replaced it with this brand.  The zipper compartment won't hold anything its to small made well but will only hold a small pack of ...  "
      ]
     },
     "execution_count": 25,
     "metadata": {},
     "output_type": "execute_result"
    }
   ],
   "source": [
    "df_processed.head()"
   ]
  },
  {
   "cell_type": "code",
   "execution_count": 26,
   "id": "e7ba861f",
   "metadata": {},
   "outputs": [],
   "source": [
    "df_processed.loc[:10000, ['reviewerID', 'asin']].to_csv(\"identifier.csv\", index=False)\n",
    "df_processed.loc[:10000, ['review', 'overall']].to_csv(\"data.csv\", index=False)"
   ]
  },
  {
   "cell_type": "code",
   "execution_count": 27,
   "id": "40e7522c",
   "metadata": {},
   "outputs": [
    {
     "data": {
      "text/plain": [
       "(9987, 2)"
      ]
     },
     "execution_count": 27,
     "metadata": {},
     "output_type": "execute_result"
    }
   ],
   "source": [
    "df_processed.loc[:10000, ['reviewerID', 'asin']].shape"
   ]
  },
  {
   "cell_type": "markdown",
   "id": "01c8284b",
   "metadata": {},
   "source": [
    "## -------------DATA PROCESSING ENDS HERE----------------\n",
    "\n",
    "\n",
    "### SCRATCH WORK AHEAD"
   ]
  },
  {
   "cell_type": "code",
   "execution_count": null,
   "id": "4655ec84",
   "metadata": {},
   "outputs": [],
   "source": [
    "# # separating labels\n",
    "# df_Y = df_processed.overall\n",
    "# df_X = df_processed.drop(\"overall\", axis=1)"
   ]
  },
  {
   "cell_type": "code",
   "execution_count": 39,
   "id": "859da33c",
   "metadata": {},
   "outputs": [],
   "source": [
    "# # saving a portion of data for training considering machine limitations\n",
    "\n",
    "# df_X.loc[:10000, ['reviewerID', 'asin']].to_csv(\"identifier.csv\", index=False)\n",
    "# df_X.loc[:10000, ['review']].to_csv(\"train_data.csv\", index=False)\n",
    "# df_Y[:10001].to_csv(\"train_lable.csv\", index=False)"
   ]
  },
  {
   "cell_type": "code",
   "execution_count": 20,
   "id": "1f12b137",
   "metadata": {},
   "outputs": [
    {
     "name": "stdout",
     "output_type": "stream",
     "text": [
      "(883615, 5) (883615,)\n"
     ]
    }
   ],
   "source": [
    "# print(df_X.shape, df_Y.shape)"
   ]
  },
  {
   "cell_type": "code",
   "execution_count": 36,
   "id": "7f59df9b",
   "metadata": {},
   "outputs": [
    {
     "data": {
      "text/plain": [
       "(10001, 2)"
      ]
     },
     "execution_count": 36,
     "metadata": {},
     "output_type": "execute_result"
    }
   ],
   "source": [
    "# df_X.loc[:10000, ['reviewerID', 'asin']].shape"
   ]
  },
  {
   "cell_type": "code",
   "execution_count": 38,
   "id": "18ffca66",
   "metadata": {},
   "outputs": [
    {
     "data": {
      "text/plain": [
       "(10001, 1)"
      ]
     },
     "execution_count": 38,
     "metadata": {},
     "output_type": "execute_result"
    }
   ],
   "source": [
    "# df_X.loc[:10000, ['review']].shape"
   ]
  },
  {
   "cell_type": "code",
   "execution_count": 40,
   "id": "eaccd1c1",
   "metadata": {},
   "outputs": [
    {
     "data": {
      "text/plain": [
       "(10001,)"
      ]
     },
     "execution_count": 40,
     "metadata": {},
     "output_type": "execute_result"
    }
   ],
   "source": [
    "# df_Y[:10001].shape"
   ]
  },
  {
   "cell_type": "code",
   "execution_count": 22,
   "id": "47c5aace",
   "metadata": {},
   "outputs": [
    {
     "data": {
      "text/plain": [
       "0    1.0\n",
       "1    4.0\n",
       "2    4.0\n",
       "3    5.0\n",
       "4    4.0\n",
       "Name: overall, dtype: float64"
      ]
     },
     "execution_count": 22,
     "metadata": {},
     "output_type": "execute_result"
    }
   ],
   "source": [
    "# df_Y.head()"
   ]
  },
  {
   "cell_type": "code",
   "execution_count": 133,
   "id": "dd048bc1",
   "metadata": {},
   "outputs": [],
   "source": [
    "from nltk.stem.porter import PorterStemmer\n",
    "from nltk.tokenize import word_tokenize\n",
    "from nltk.corpus import stopwords\n",
    "from string import punctuation\n",
    "\n",
    "import nltk"
   ]
  },
  {
   "cell_type": "code",
   "execution_count": 134,
   "id": "5da86a31",
   "metadata": {},
   "outputs": [
    {
     "name": "stderr",
     "output_type": "stream",
     "text": [
      "[nltk_data] Downloading package stopwords to\n",
      "[nltk_data]     /home/chitransh/nltk_data...\n",
      "[nltk_data]   Unzipping corpora/stopwords.zip.\n",
      "[nltk_data] Downloading package punkt to /home/chitransh/nltk_data...\n",
      "[nltk_data]   Unzipping tokenizers/punkt.zip.\n"
     ]
    },
    {
     "data": {
      "text/plain": [
       "True"
      ]
     },
     "execution_count": 134,
     "metadata": {},
     "output_type": "execute_result"
    }
   ],
   "source": [
    "nltk.download('stopwords')\n",
    "nltk.download('punkt')"
   ]
  },
  {
   "cell_type": "code",
   "execution_count": 125,
   "id": "db66ab5c",
   "metadata": {},
   "outputs": [],
   "source": [
    "import re"
   ]
  },
  {
   "cell_type": "code",
   "execution_count": 123,
   "id": "d946eda0",
   "metadata": {},
   "outputs": [],
   "source": [
    "df_X.review = df_X.review.str.lower()"
   ]
  },
  {
   "cell_type": "code",
   "execution_count": 124,
   "id": "f46d6662",
   "metadata": {},
   "outputs": [
    {
     "data": {
      "text/html": [
       "<div>\n",
       "<style scoped>\n",
       "    .dataframe tbody tr th:only-of-type {\n",
       "        vertical-align: middle;\n",
       "    }\n",
       "\n",
       "    .dataframe tbody tr th {\n",
       "        vertical-align: top;\n",
       "    }\n",
       "\n",
       "    .dataframe thead th {\n",
       "        text-align: right;\n",
       "    }\n",
       "</style>\n",
       "<table border=\"1\" class=\"dataframe\">\n",
       "  <thead>\n",
       "    <tr style=\"text-align: right;\">\n",
       "      <th></th>\n",
       "      <th>reviewerID</th>\n",
       "      <th>asin</th>\n",
       "      <th>review</th>\n",
       "    </tr>\n",
       "  </thead>\n",
       "  <tbody>\n",
       "    <tr>\n",
       "      <th>0</th>\n",
       "      <td>A19OTBIPAMJUU1</td>\n",
       "      <td>B00007GDFV</td>\n",
       "      <td>don't like it. it will not hold my cigarettes. not long enough. one star</td>\n",
       "    </tr>\n",
       "    <tr>\n",
       "      <th>1</th>\n",
       "      <td>A3IT0MD9QUFZEK</td>\n",
       "      <td>B00007GDFV</td>\n",
       "      <td>love four stars</td>\n",
       "    </tr>\n",
       "    <tr>\n",
       "      <th>2</th>\n",
       "      <td>A1IER9LE7FBJ95</td>\n",
       "      <td>B00007GDFV</td>\n",
       "      <td>wonderful item. i have purchased several of these. they last forever unless you lose them.  i am happy with my purchase buxton is made to last. made to last</td>\n",
       "    </tr>\n",
       "    <tr>\n",
       "      <th>3</th>\n",
       "      <td>A3DZQ7TB4ZUWKG</td>\n",
       "      <td>B00007GDFV</td>\n",
       "      <td>i just love it! i think this is my six or seven case from buxton. they are very stylish, durable and proper if you don't want your cigarette packet crushed inside your purse love it!</td>\n",
       "    </tr>\n",
       "    <tr>\n",
       "      <th>4</th>\n",
       "      <td>A199RALD1NLRC1</td>\n",
       "      <td>B00007GDFV</td>\n",
       "      <td>made well but will only hold a small pack of ciggs i don't smoke i use  this as a tip holder for work i bought a different one last year but it is falling apart so i replaced it with this brand.  the zipper compartment won't hold anything its to small made well but will only hold a small pack of ...</td>\n",
       "    </tr>\n",
       "  </tbody>\n",
       "</table>\n",
       "</div>"
      ],
      "text/plain": [
       "       reviewerID        asin  \\\n",
       "0  A19OTBIPAMJUU1  B00007GDFV   \n",
       "1  A3IT0MD9QUFZEK  B00007GDFV   \n",
       "2  A1IER9LE7FBJ95  B00007GDFV   \n",
       "3  A3DZQ7TB4ZUWKG  B00007GDFV   \n",
       "4  A199RALD1NLRC1  B00007GDFV   \n",
       "\n",
       "                                                                                                                                                                                                                                                                                                         review  \n",
       "0                                                                                                                                                                                                                                      don't like it. it will not hold my cigarettes. not long enough. one star  \n",
       "1                                                                                                                                                                                                                                                                                               love four stars  \n",
       "2                                                                                                                                                  wonderful item. i have purchased several of these. they last forever unless you lose them.  i am happy with my purchase buxton is made to last. made to last  \n",
       "3                                                                                                                        i just love it! i think this is my six or seven case from buxton. they are very stylish, durable and proper if you don't want your cigarette packet crushed inside your purse love it!  \n",
       "4  made well but will only hold a small pack of ciggs i don't smoke i use  this as a tip holder for work i bought a different one last year but it is falling apart so i replaced it with this brand.  the zipper compartment won't hold anything its to small made well but will only hold a small pack of ...  "
      ]
     },
     "execution_count": 124,
     "metadata": {},
     "output_type": "execute_result"
    }
   ],
   "source": [
    "df_X.head()"
   ]
  },
  {
   "cell_type": "code",
   "execution_count": 140,
   "id": "611cab24",
   "metadata": {},
   "outputs": [
    {
     "data": {
      "text/plain": [
       "['!',\n",
       " '\"',\n",
       " '#',\n",
       " '$',\n",
       " '%',\n",
       " '&',\n",
       " \"'\",\n",
       " '(',\n",
       " ')',\n",
       " '*',\n",
       " '+',\n",
       " ',',\n",
       " '-',\n",
       " '.',\n",
       " '/',\n",
       " ':',\n",
       " ';',\n",
       " '<',\n",
       " '=',\n",
       " '>',\n",
       " '?',\n",
       " '@',\n",
       " '[',\n",
       " '\\\\',\n",
       " ']',\n",
       " '^',\n",
       " '_',\n",
       " '`',\n",
       " '{',\n",
       " '|',\n",
       " '}',\n",
       " '~']"
      ]
     },
     "execution_count": 140,
     "metadata": {},
     "output_type": "execute_result"
    }
   ],
   "source": [
    "list(punctuation)"
   ]
  },
  {
   "cell_type": "code",
   "execution_count": 141,
   "id": "21ae949f",
   "metadata": {},
   "outputs": [],
   "source": [
    "stoplist = stopwords.words('english') + list(punctuation)"
   ]
  },
  {
   "cell_type": "code",
   "execution_count": 1,
   "id": "73bb4702",
   "metadata": {},
   "outputs": [
    {
     "ename": "NameError",
     "evalue": "name 'df_X' is not defined",
     "output_type": "error",
     "traceback": [
      "\u001b[0;31m---------------------------------------------------------------------------\u001b[0m",
      "\u001b[0;31mNameError\u001b[0m                                 Traceback (most recent call last)",
      "\u001b[0;32m<ipython-input-1-b04912754097>\u001b[0m in \u001b[0;36m<module>\u001b[0;34m\u001b[0m\n\u001b[0;32m----> 1\u001b[0;31m \u001b[0mdf_X\u001b[0m\u001b[0;34m.\u001b[0m\u001b[0mshape\u001b[0m\u001b[0;34m\u001b[0m\u001b[0;34m\u001b[0m\u001b[0m\n\u001b[0m",
      "\u001b[0;31mNameError\u001b[0m: name 'df_X' is not defined"
     ]
    }
   ],
   "source": [
    "df_X.shape"
   ]
  },
  {
   "cell_type": "code",
   "execution_count": null,
   "id": "74b35492",
   "metadata": {},
   "outputs": [],
   "source": [
    "df_X['tokenized_review'] = df_X.review.apply(lambda x: nltk.word_tokenize(x))"
   ]
  },
  {
   "cell_type": "code",
   "execution_count": null,
   "id": "94c1ed30",
   "metadata": {},
   "outputs": [],
   "source": [
    "\n",
    "    "
   ]
  }
 ],
 "metadata": {
  "kernelspec": {
   "display_name": "Python 3",
   "language": "python",
   "name": "python3"
  },
  "language_info": {
   "codemirror_mode": {
    "name": "ipython",
    "version": 3
   },
   "file_extension": ".py",
   "mimetype": "text/x-python",
   "name": "python",
   "nbconvert_exporter": "python",
   "pygments_lexer": "ipython3",
   "version": "3.6.9"
  }
 },
 "nbformat": 4,
 "nbformat_minor": 5
}
